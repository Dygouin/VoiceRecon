{
 "cells": [
  {
   "cell_type": "code",
   "execution_count": 1,
   "metadata": {},
   "outputs": [
    {
     "name": "stderr",
     "output_type": "stream",
     "text": [
      "/Users/franbaiz/.pyenv/versions/3.7.7/envs/lewagon/lib/python3.7/site-packages/pandas/compat/__init__.py:120: UserWarning: Could not import the lzma module. Your installed Python is incomplete. Attempting to use lzma compression will result in a RuntimeError.\n",
      "  warnings.warn(msg)\n"
     ]
    }
   ],
   "source": [
    "import os\n",
    "import pandas as pd\n",
    "import numpy as np\n",
    "import matplotlib.pyplot as plt\n",
    "import seaborn as sns\n",
    "%matplotlib inline"
   ]
  },
  {
   "cell_type": "markdown",
   "metadata": {},
   "source": [
    "# Exctract data from titles"
   ]
  },
  {
   "cell_type": "markdown",
   "metadata": {},
   "source": [
    "## Get file names"
   ]
  },
  {
   "cell_type": "code",
   "execution_count": 3,
   "metadata": {},
   "outputs": [
    {
     "ename": "FileNotFoundError",
     "evalue": "[Errno 2] No such file or directory: '../raw_data/1-24 Audio Song and speech'",
     "output_type": "error",
     "traceback": [
      "\u001b[0;31m---------------------------------------------------------------------------\u001b[0m",
      "\u001b[0;31mFileNotFoundError\u001b[0m                         Traceback (most recent call last)",
      "\u001b[0;32m<ipython-input-3-31e75a602acf>\u001b[0m in \u001b[0;36m<module>\u001b[0;34m\u001b[0m\n\u001b[1;32m      3\u001b[0m \u001b[0;34m\u001b[0m\u001b[0m\n\u001b[1;32m      4\u001b[0m \u001b[0;31m# Use os library to get file_names\u001b[0m\u001b[0;34m\u001b[0m\u001b[0;34m\u001b[0m\u001b[0;34m\u001b[0m\u001b[0m\n\u001b[0;32m----> 5\u001b[0;31m \u001b[0mdirectories\u001b[0m \u001b[0;34m=\u001b[0m \u001b[0mos\u001b[0m\u001b[0;34m.\u001b[0m\u001b[0mlistdir\u001b[0m\u001b[0;34m(\u001b[0m\u001b[0mpath\u001b[0m\u001b[0;34m)\u001b[0m\u001b[0;34m\u001b[0m\u001b[0;34m\u001b[0m\u001b[0m\n\u001b[0m",
      "\u001b[0;31mFileNotFoundError\u001b[0m: [Errno 2] No such file or directory: '../raw_data/1-24 Audio Song and speech'"
     ]
    }
   ],
   "source": [
    "# Use relative file path to get directory of files\"\n",
    "path = \"../raw_data/1-24 Audio Song and speech\"\n",
    "\n",
    "# Use os library to get file_names\n",
    "directories = os.listdir(path)"
   ]
  },
  {
   "cell_type": "markdown",
   "metadata": {},
   "source": [
    "### Process each filename to create arrays with important elements"
   ]
  },
  {
   "cell_type": "code",
   "execution_count": null,
   "metadata": {},
   "outputs": [],
   "source": [
    "# Initialize empty arrays for each field\n",
    "speech_song = []\n",
    "emotion = []\n",
    "intensity = []\n",
    "statement = []\n",
    "repetitions = []\n",
    "actor_id = []\n",
    "gender = []\n",
    "\n",
    "# Use for loop to process each file name.\n",
    "for file in directories:\n",
    "    f = file[0:-4]\n",
    "    f = f.split(\"-\")\n",
    "    speech_song.append(f[1])\n",
    "    emotion.append(f[2])\n",
    "    intensity.append(f[3])\n",
    "    statement.append(f[4])\n",
    "    repetitions.append(f[5])\n",
    "    actor_id.append(f[6])\n",
    "    gender.append(int(f[6]) % 2)"
   ]
  },
  {
   "cell_type": "code",
   "execution_count": null,
   "metadata": {},
   "outputs": [],
   "source": [
    "# Create the empty data frame.\n",
    "df = pd.DataFrame()\n",
    "\n",
    "# Create the columns in the dataframe using arrays\n",
    "df[\"speech_song\"] = speech_song\n",
    "df[\"emotion\"] = emotion\n",
    "df[\"intensity\"] = intensity\n",
    "df[\"statement\"] = statement\n",
    "df[\"repetitions\"] = repetitions\n",
    "df[\"actor_id\"] = actor_id\n",
    "df[\"gender\"] = gender"
   ]
  },
  {
   "cell_type": "code",
   "execution_count": null,
   "metadata": {},
   "outputs": [],
   "source": [
    "# Create a gender in string version\n",
    "df[\"gender_s\"] = df[\"gender\"].apply(lambda x: \"Male\" if x == 1 else \"Female\")\n",
    "\n",
    "\n",
    "# Create an emotion dict to map the emotions\n",
    "emotion_dict = {\"01\":\"Neutral\", \"02\":\"Calm\", \"03\":\"Happy\", \"04\":\"Sad\", \"05\":\"Angry\", \"06\":\"Fearful\"}\n",
    "\n",
    "#Create a string column of the emotions and map them to emotion_dict\n",
    "df[\"emotion_s\"] = df[\"emotion\"].map(emotion_dict)\n",
    "\n",
    "# Get a dummies df of the emotions_strings\n",
    "dummies = pd.get_dummies(df[\"emotion_s\"])\n",
    "\n",
    "# Horizontally concat the dummies df with original df.\n",
    "df = pd.concat([df, dummies], axis=1)\n",
    "\n",
    "df"
   ]
  },
  {
   "cell_type": "code",
   "execution_count": null,
   "metadata": {},
   "outputs": [],
   "source": []
  },
  {
   "cell_type": "code",
   "execution_count": null,
   "metadata": {},
   "outputs": [],
   "source": []
  },
  {
   "cell_type": "code",
   "execution_count": null,
   "metadata": {},
   "outputs": [],
   "source": []
  }
 ],
 "metadata": {
  "kernelspec": {
   "display_name": "Python 3",
   "language": "python",
   "name": "python3"
  },
  "language_info": {
   "codemirror_mode": {
    "name": "ipython",
    "version": 3
   },
   "file_extension": ".py",
   "mimetype": "text/x-python",
   "name": "python",
   "nbconvert_exporter": "python",
   "pygments_lexer": "ipython3",
   "version": "3.7.7"
  }
 },
 "nbformat": 4,
 "nbformat_minor": 4
}
